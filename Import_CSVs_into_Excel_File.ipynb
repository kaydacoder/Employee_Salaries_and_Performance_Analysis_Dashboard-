{
 "cells": [
  {
   "cell_type": "code",
   "execution_count": 3,
   "metadata": {},
   "outputs": [],
   "source": [
    "import pandas as pd"
   ]
  },
  {
   "cell_type": "code",
   "execution_count": 4,
   "metadata": {},
   "outputs": [],
   "source": [
    "# List of CSV files and corresponding sheet names\n",
    "csv_files = {\n",
    "    \"Cumulative_Salary_Expenses.csv\": \"Cumulative_Salary_Expenses\",\n",
    "    \"Employees_with_Salaries_Above_Department_Average.csv\": \"Employees_Above_Department_Avg\",\n",
    "    \"Rank_Employees_by_Salary.csv\": \"Salary_Rank\",\n",
    "    \"Salary_Comparison.csv\": \"Salary_Comparison\",\n",
    "    \"Top_Performances_per_Department.csv\": \"Top_Performers\"\n",
    "}"
   ]
  },
  {
   "cell_type": "code",
   "execution_count": 6,
   "metadata": {},
   "outputs": [
    {
     "name": "stdout",
     "output_type": "stream",
     "text": [
      "Excel file '../SQL_Queries_Exported_into_Worksheet.xlsx' created with 5 sheets!\n"
     ]
    }
   ],
   "source": [
    "# Create an Excel writer object\n",
    "output_excel = \"../SQL_Queries_Exported_into_Worksheet.xlsx\"\n",
    "with pd.ExcelWriter(output_excel, engine=\"openpyxl\") as writer:\n",
    "    for file, sheet in csv_files.items():\n",
    "        df = pd.read_csv(file)  # Read CSV file into DataFrame\n",
    "        df.to_excel(writer, sheet_name=sheet, index=False)  # Write to Excel sheet\n",
    "\n",
    "print(f\"Excel file '{output_excel}' created with {len(csv_files)} sheets!\")"
   ]
  }
 ],
 "metadata": {
  "kernelspec": {
   "display_name": "Python 3",
   "language": "python",
   "name": "python3"
  },
  "language_info": {
   "codemirror_mode": {
    "name": "ipython",
    "version": 3
   },
   "file_extension": ".py",
   "mimetype": "text/x-python",
   "name": "python",
   "nbconvert_exporter": "python",
   "pygments_lexer": "ipython3",
   "version": "3.12.4"
  }
 },
 "nbformat": 4,
 "nbformat_minor": 2
}
